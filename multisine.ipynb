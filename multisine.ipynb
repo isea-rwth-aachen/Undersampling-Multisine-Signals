{
 "cells": [
  {
   "cell_type": "markdown",
   "metadata": {},
   "source": [
    "# Frequency Selection Tool for Undersampling Multisine Signals"
   ]
  },
  {
   "cell_type": "code",
   "execution_count": null,
   "metadata": {},
   "outputs": [],
   "source": [
    "%matplotlib widget\n",
    "\n",
    "import multisine as ms\n",
    "from multisine import np\n",
    "from multisine import plt\n",
    "from multisine import mpl\n",
    "from multisine import cm\n",
    "from multisine import nx\n",
    "\n",
    "## if you have installed latex and want to use it for plots, uncomment the following 4 lines\n",
    "# plt.rcParams[\"text.usetex\"] = True\n",
    "# mpl.rcParams.update({\"text.usetex\": True, \"savefig.format\": \"pdf\"})\n",
    "# mpl.rc(\"font\", **{\"family\": \"serif\", \"serif\": [\"Computer Modern\"]})\n",
    "# mpl.rc(\"text.latex\", preamble=r\"\\usepackage{underscore}\")\n",
    "\n",
    "## safe figures e.g. with:\n",
    "# plot_name = \"adjacency_matrix\"\n",
    "# plt.savefig(r\"figures/\" + plot_name + \".pdf\", dpi=600)"
   ]
  },
  {
   "cell_type": "code",
   "execution_count": null,
   "metadata": {},
   "outputs": [],
   "source": [
    "f_s = 24\n",
    "f_lpf = 70\n",
    "harmonics_measurable = 3\n",
    "harmonics_expected = 3"
   ]
  },
  {
   "cell_type": "code",
   "execution_count": null,
   "metadata": {},
   "outputs": [],
   "source": [
    "f_max = np.int64(np.floor(f_lpf/(harmonics_measurable)))\n",
    "f_alias = f_s / 2\n",
    "f_max_example = f_max + 2"
   ]
  },
  {
   "cell_type": "markdown",
   "metadata": {},
   "source": [
    "## Introduction"
   ]
  },
  {
   "cell_type": "markdown",
   "metadata": {},
   "source": [
    "The key problem to be solved is, that frequencies can overlap if the lowpass filter is not matching the sampling rate.  \n",
    "We assume, that we are looking for a multisine signal."
   ]
  },
  {
   "cell_type": "code",
   "execution_count": null,
   "metadata": {},
   "outputs": [],
   "source": [
    "fig, axes = ms.draw_signal_path()"
   ]
  },
  {
   "cell_type": "markdown",
   "metadata": {},
   "source": [
    "If a measured frequency is above the Nyquist frequency, it is aliased into the first Nyquist zone"
   ]
  },
  {
   "cell_type": "code",
   "execution_count": null,
   "metadata": {},
   "outputs": [],
   "source": [
    "fig, axes = ms.plot_example_undersampling()"
   ]
  },
  {
   "cell_type": "markdown",
   "metadata": {},
   "source": [
    "If a nonlinear system is measured, such as a battery, the system might have further harmonics. All harmonics above the ideal LFP frequency are filtered out."
   ]
  },
  {
   "cell_type": "code",
   "execution_count": null,
   "metadata": {},
   "outputs": [],
   "source": [
    "fig, axes = ms.plot_example_bins()"
   ]
  },
  {
   "cell_type": "markdown",
   "metadata": {},
   "source": [
    "Let's use an other representation.  \n",
    "If the system to be analysed is linear and the sampling rate **f_s** and lowpass filter **f_lpf** are high enough, the Input Frequency maps directly to the Output Frequency:"
   ]
  },
  {
   "cell_type": "code",
   "execution_count": null,
   "metadata": {},
   "outputs": [],
   "source": [
    "f_raw = ms.get_raw_frequencies(f_max_example)\n",
    "fig, ax = plt.subplots(1,1,figsize=(8*cm, 6*cm))\n",
    "ax.plot(f_raw)\n",
    "ax.set_xlim(0, f_max_example)\n",
    "ax.set_ylim(0, f_max_example*max(harmonics_expected, harmonics_measurable))\n",
    "ax.set_yticks(np.concat([ax.get_yticks(), [f_lpf, f_alias]]), np.concat([ax.get_yticklabels(), ['$f_\\mathrm{lpf}$','$f_\\mathrm{N}$']]))\n",
    "ax.set_ylim(0, f_max_example*max(harmonics_expected, harmonics_measurable))\n",
    "ax.grid(True)\n",
    "ax.set_xlabel('Input Frequency\\n in Hz')\n",
    "ax.set_ylabel('Output Frequency\\n in Hz')\n",
    "ax.legend(['1. Harmonic'], loc='upper left',handlelength=0.2)\n",
    "fig.tight_layout()"
   ]
  },
  {
   "cell_type": "markdown",
   "metadata": {},
   "source": [
    "If the system is nonlinear, harmonics occures. If we assume, we know how many harmonics our systems creates (**harmonics_expected**), we can decide how many of these we want to measure (**harmonics_measurable**)."
   ]
  },
  {
   "cell_type": "code",
   "execution_count": null,
   "metadata": {},
   "outputs": [],
   "source": [
    "f_harm = ms.get_harmonics(f_raw,harmonics_expected)\n",
    "fig, ax = plt.subplots(1,1,figsize=(8*cm, 6*cm))\n",
    "ax.plot(f_harm)\n",
    "ax.set_xlim(0, f_max_example)\n",
    "ax.set_ylim(0, f_max_example*max(harmonics_expected, harmonics_measurable))\n",
    "ax.set_yticks(np.concat([ax.get_yticks(), [f_lpf, f_alias]]), np.concat([ax.get_yticklabels(), ['$f_\\mathrm{lpf}$','$f_\\mathrm{N}$']]))\n",
    "ax.set_ylim(0, f_max_example*max(harmonics_expected, harmonics_measurable))\n",
    "ax.grid(True)\n",
    "ax.set_xlabel('Input Frequency\\n in Hz')\n",
    "ax.set_ylabel('Output Frequency\\n in Hz')\n",
    "ax.legend(['_Hidden', '2. Harmonic', '3. Harmonic'], loc='upper left',handlelength=0.2)\n",
    "fig.tight_layout()"
   ]
  },
  {
   "cell_type": "markdown",
   "metadata": {},
   "source": [
    "Most system have a lowpass filter:"
   ]
  },
  {
   "cell_type": "code",
   "execution_count": null,
   "metadata": {},
   "outputs": [],
   "source": [
    "f_lowp = ms.low_pass_filter(f_harm,f_lpf)\n",
    "fig, ax = plt.subplots(1,1,figsize=(8*cm, 6*cm))\n",
    "ax.plot(f_lowp)\n",
    "ax.set_xlim(0, f_max_example)\n",
    "ax.set_ylim(0, f_max_example*max(harmonics_expected, harmonics_measurable))\n",
    "ax.set_yticks(np.concat([ax.get_yticks(), [f_lpf, f_alias]]), np.concat([ax.get_yticklabels(), ['$f_\\mathrm{lpf}$','$f_\\mathrm{N}$']]))\n",
    "ax.set_ylim(0, f_max_example*max(harmonics_expected, harmonics_measurable))\n",
    "ax.grid(True)\n",
    "ax.set_xlabel('Input Frequency\\n in Hz')\n",
    "ax.set_ylabel('Output Frequency\\n in Hz')\n",
    "fig.tight_layout()"
   ]
  },
  {
   "cell_type": "markdown",
   "metadata": {},
   "source": [
    "And all digital systems have a sample rate, that maps frequencies higher than f_s/2 to other frequencies:"
   ]
  },
  {
   "cell_type": "code",
   "execution_count": null,
   "metadata": {},
   "outputs": [],
   "source": [
    "f_digital = ms.get_alias_f(f_lowp,f_s)\n",
    "fig, ax = plt.subplots(1,1,figsize=(8*cm, 6*cm))\n",
    "ax.plot(f_digital)\n",
    "ax.set_xlim(0, f_max_example)\n",
    "ax.set_ylim(0, f_max_example*max(harmonics_expected, harmonics_measurable))\n",
    "ax.set_yticks(np.concat([ax.get_yticks(), [f_lpf, f_alias]]), np.concat([ax.get_yticklabels(), ['$f_\\mathrm{lpf}$','$f_\\mathrm{N}$']]))\n",
    "ax.set_ylim(0, f_max_example*max(harmonics_expected, harmonics_measurable))\n",
    "ax.grid(True)\n",
    "ax.set_xlabel('Input Frequency\\n in Hz')\n",
    "ax.set_ylabel('Output Frequency\\n in Hz')\n",
    "fig.tight_layout()"
   ]
  },
  {
   "cell_type": "markdown",
   "metadata": {},
   "source": [
    "Another way of visulasation is below."
   ]
  },
  {
   "cell_type": "code",
   "execution_count": null,
   "metadata": {},
   "outputs": [],
   "source": [
    "harmonics = ms.get_raw_frequencies(f_s*harmonics_expected)\n",
    "harmonics = ms.get_harmonics(harmonics,harmonics_expected)\n",
    "harmonics = ms.low_pass_filter(harmonics,f_lpf)\n",
    "harmonics = ms.get_alias_f(harmonics,f_s)\n",
    "\n",
    "fig, ax = plt.subplots(figsize=(16*cm, 8*cm))\n",
    "CS = ax.contourf(np.transpose(harmonics),cmap = plt.get_cmap('turbo'))\n",
    "cbar = fig.colorbar(CS, shrink=1, extend='both', ticks=[0,f_alias])\n",
    "cbar.ax.set_yticklabels(['$0$','$f_N$'])\n",
    "cbar.set_label('Output Frequency in Hz')\n",
    "CS.set_edgecolor('face')\n",
    "ax.set_xlabel('Input Frequency in Hz')\n",
    "ax.set_ylabel('Harmonic Order')\n",
    "ax.grid()\n",
    "\n",
    "ax.set_xticks([0, f_alias,  f_alias*2,f_max-1,f_alias*3,f_alias*4,f_alias*5,f_alias*6,f_lpf-1], ['$0$', '$f_N$', '$f_s$', '\\n$f_\\mathrm{max}$','','$2f_s$','','$3f_s$','\\n$f_\\mathrm{LPF}$'], fontsize=10);\n",
    "ax.set_yticks([0, 1, 2],['$1$', '$2$', '$3$']);\n",
    "\n",
    "fig.tight_layout()"
   ]
  },
  {
   "cell_type": "markdown",
   "metadata": {},
   "source": [
    "## Frequency search"
   ]
  },
  {
   "cell_type": "markdown",
   "metadata": {},
   "source": [
    "If we know have all frequencies that are possible and their harmonics, we can first see, if they overlap. In an adjacence matrix we store with a 1 if two frequencies can be excited at the same time or not."
   ]
  },
  {
   "cell_type": "code",
   "execution_count": null,
   "metadata": {},
   "outputs": [],
   "source": [
    "frequencies = ms.get_frequencies(f_s,f_lpf,harmonics_measurable,harmonics_expected)"
   ]
  },
  {
   "cell_type": "code",
   "execution_count": null,
   "metadata": {},
   "outputs": [],
   "source": [
    "adjacency_mat = ms.get_adjacency(f_s,f_lpf,harmonics_measurable,frequencies)"
   ]
  },
  {
   "cell_type": "code",
   "execution_count": null,
   "metadata": {},
   "outputs": [],
   "source": [
    "f_nyquist = (f_s)/2\n",
    "f_nyquist_int = int(np.floor(f_nyquist))\n",
    "\n",
    "fig, ax = plt.subplots(1,1,figsize=(8*cm, 8*cm))\n",
    "\n",
    "adjacency_mat_plot = adjacency_mat.copy()\n",
    "\n",
    "if len(adjacency_mat_plot) > f_max:\n",
    "    adjacency_mat_plot[f_max:,:] = 0 \n",
    "    adjacency_mat_plot[:,f_max:] = 0\n",
    "\n",
    "CS = ax.imshow(adjacency_mat_plot,cmap='Greys')\n",
    "ax.set_xticks([0, f_nyquist, f_lpf, f_max, f_s], ['$0$', '$f_{\\mathrm{N}}$', '$f_{\\mathrm{LPF}}$','$f_{\\mathrm{max}}$\\n', '$f_{\\mathrm{s}}$'])\n",
    "ax.set_yticks([0, f_nyquist, f_lpf, f_max, f_s], ['$0$', '$f_{\\mathrm{N}}$', '$f_{\\mathrm{LPF}}$','$f_{\\mathrm{max}}$\\n', '$f_{\\mathrm{s}}$'])\n",
    "ax.grid()\n",
    "\n",
    "plt.xlabel('$\\mathrm{Frequency}\\  \\mathrm{in\\ Hz}$')\n",
    "plt.ylabel('$\\mathrm{Frequency}\\  \\mathrm{in\\ Hz}$')\n",
    "ax.xaxis.tick_top()\n",
    "ax.xaxis.set_label_position('top')\n",
    "\n",
    "ax.plot([f_nyquist, f_s], [f_nyquist, f_nyquist], 'C0-', lw=1)\n",
    "ax.plot([f_s, f_s], [f_nyquist, f_s], 'C0-', lw=1)\n",
    "ax.plot([f_s, f_nyquist], [f_s, f_nyquist], 'C0-', lw=1)\n",
    "\n",
    "ax.plot([f_nyquist, f_s], [f_nyquist, f_nyquist], 'C1-', lw=1)\n",
    "ax.plot([f_s, f_s], [f_nyquist, 0], 'C1-', lw=1)\n",
    "ax.plot([f_s, f_nyquist], [0, f_nyquist], 'C1-', lw=1)\n",
    "\n",
    "ax.plot([f_nyquist, f_s], [f_nyquist, 0], 'C2-', lw=1)\n",
    "ax.plot([f_s, f_nyquist], [0, 0], 'C2-', lw=1)\n",
    "ax.plot([f_nyquist, f_nyquist], [0, f_nyquist], 'C2-', lw=1)\n",
    "\n",
    "ax.plot([0, f_nyquist], [0, f_nyquist], 'C3-', lw=1)\n",
    "ax.plot([f_nyquist, f_nyquist], [f_nyquist, 0], 'C3-', lw=1)\n",
    "ax.plot([f_nyquist, 0], [0, 0], 'C3-', lw=1)\n",
    "\n",
    "legend_elements = [\n",
    "    plt.Line2D([0], [0], marker='s', color='black',\n",
    "               label='Possible\\n frequency\\n combination', alpha=1, markersize=5, linestyle='')\n",
    "]\n",
    "ax.legend(handles=legend_elements,bbox_to_anchor=(0, 0.1), loc='lower left',handlelength=0.5)\n",
    "\n",
    "fig.tight_layout()"
   ]
  },
  {
   "cell_type": "markdown",
   "metadata": {},
   "source": [
    "But we want to have more than two frequencies to be excited at the same time. Thus the problem is mapped on a graph. Each edge represents, that these frequencies can be excited at the same time without overlapping."
   ]
  },
  {
   "cell_type": "code",
   "execution_count": null,
   "metadata": {},
   "outputs": [],
   "source": [
    "graph = ms.get_graph(adjacency_mat)"
   ]
  },
  {
   "cell_type": "code",
   "execution_count": null,
   "metadata": {},
   "outputs": [],
   "source": [
    "fig, ax = plt.subplots(1,1,figsize=(16*cm, 8*cm))\n",
    "nx.draw_networkx(graph, pos=nx.circular_layout(sorted(graph.nodes(), reverse=True)), ax = ax, node_color='C0', font_color='w')\n",
    "_ = ax.axis('off')\n",
    "legend_elements = [\n",
    "    plt.Line2D([0], [0], marker='', color='black',\n",
    "               label='Possible\\n frequency\\n combination', alpha=1, markersize=5, linestyle='-',lw=1)\n",
    "]\n",
    "legend = ax.legend(handles=legend_elements,bbox_to_anchor=(0, 0), loc='lower left',handlelength=0.5)\n",
    "legend.get_frame().set_alpha(0)\n",
    "fig.tight_layout()"
   ]
  },
  {
   "cell_type": "markdown",
   "metadata": {},
   "source": [
    "Finding groubs of frequencies that are connected is an NP-complete problem. Thus for high bandwidths long computation times and a lot of resouces are necessary."
   ]
  },
  {
   "cell_type": "code",
   "execution_count": null,
   "metadata": {},
   "outputs": [],
   "source": [
    "## Uncomment to analyse the memory and time consumption of the function get_cliques\n",
    "# %load_ext memory_profiler\n",
    "# %memit cliques = get_cliques(graph, f_s, f_lpf, harmonics_measurable, harmonics_expected)\n",
    "# %time cliques = get_cliques(graph, f_s, f_lpf, harmonics_measurable, harmonics_expected)\n",
    "\n",
    "cliques = ms.get_cliques(graph, f_s, f_lpf, harmonics_measurable, harmonics_expected,cliques_per_file=100)"
   ]
  },
  {
   "cell_type": "code",
   "execution_count": null,
   "metadata": {},
   "outputs": [],
   "source": [
    "np.savetxt('cliques.csv', cliques, delimiter=',')"
   ]
  },
  {
   "cell_type": "markdown",
   "metadata": {},
   "source": [
    "## Frequency selection"
   ]
  },
  {
   "cell_type": "markdown",
   "metadata": {},
   "source": [
    "We want to have a frequency set that covers a high bandwidth and is mostly log-like scaled. For different applications this should be changed"
   ]
  },
  {
   "cell_type": "code",
   "execution_count": null,
   "metadata": {},
   "outputs": [],
   "source": [
    "ssr_list = []\n",
    "bandwidth_list = []\n",
    "\n",
    "for frequencies in cliques:\n",
    "    frequencies = np.array(frequencies, dtype=float)\n",
    "    frequencies = np.sort(frequencies)\n",
    "    \n",
    "    # linear regression\n",
    "    f_logs = np.log10(frequencies)\n",
    "    indices = np.arange(1, len(frequencies) + 1)\n",
    "    coefficients, residuals, _, _, _ = np.polyfit(indices, f_logs, deg=1, full=True)\n",
    "    slope, intercept = coefficients\n",
    "    predicted_logs = intercept + slope * indices\n",
    "    residuals = f_logs - predicted_logs\n",
    "    SSR = np.sum(residuals**2)\n",
    "    ssr_list.append(SSR)\n",
    "    \n",
    "    # covered bandwidth\n",
    "    bandwidth_ratio = np.max(frequencies) - np.min(frequencies)\n",
    "    bandwidth_list.append(bandwidth_ratio)\n",
    "\n",
    "ssr_array = np.array(ssr_list)\n",
    "bandwidth_array = np.array(bandwidth_list)\n",
    "\n",
    "# Normalize SSR and Bandwidth Ratio\n",
    "ssr_min = np.min(ssr_array)\n",
    "ssr_max = np.max(ssr_array)\n",
    "normalized_ssr = 1 - (ssr_array - ssr_min) / (ssr_max - ssr_min)  # Invert to make higher better\n",
    "\n",
    "bandwidth_min = np.min(bandwidth_array)\n",
    "bandwidth_max = np.max(bandwidth_array)\n",
    "normalized_bandwidth = (bandwidth_array - bandwidth_min) / (bandwidth_max - bandwidth_min)\n",
    "\n",
    "# Choose weights\n",
    "w_log = 0.5\n",
    "w_bandwidth = 0.5\n",
    "\n",
    "composite_scores = w_log * normalized_ssr + w_bandwidth * normalized_bandwidth\n",
    "best_index = np.argmax(composite_scores)\n",
    "best_frequencies = np.sort(cliques[best_index])\n",
    "best_score = composite_scores[best_index]\n",
    "\n",
    "print(f\"The best frequency set is: {best_frequencies} with a composite score of {best_score:.4f}\")\n",
    "print(f\"The exspected frequencies are: {ms.get_harmonics(best_frequencies, harmonics_expected).reshape(1,-1).astype(int)[0].tolist()},\")\n",
    "print(f\"and they will be maped on: {ms.get_alias_f(ms.low_pass_filter(ms.get_harmonics(best_frequencies, harmonics_expected), f_lpf), f_s).reshape(1,-1).astype(int)[0].tolist()}\")"
   ]
  },
  {
   "cell_type": "code",
   "execution_count": null,
   "metadata": {},
   "outputs": [],
   "source": [
    "ms.check_unique(ms.get_alias_f(ms.low_pass_filter(ms.get_harmonics(best_frequencies,harmonics_expected),f_lpf),f_s))"
   ]
  },
  {
   "cell_type": "code",
   "execution_count": null,
   "metadata": {},
   "outputs": [],
   "source": [
    "np.savetxt(\"best_frequencies.csv\", best_frequencies, delimiter=\",\",fmt='%s')"
   ]
  },
  {
   "cell_type": "code",
   "execution_count": null,
   "metadata": {},
   "outputs": [],
   "source": []
  }
 ],
 "metadata": {
  "kernelspec": {
   "display_name": ".venv",
   "language": "python",
   "name": "python3"
  },
  "language_info": {
   "codemirror_mode": {
    "name": "ipython",
    "version": 3
   },
   "file_extension": ".py",
   "mimetype": "text/x-python",
   "name": "python",
   "nbconvert_exporter": "python",
   "pygments_lexer": "ipython3",
   "version": "3.11.9"
  }
 },
 "nbformat": 4,
 "nbformat_minor": 4
}
